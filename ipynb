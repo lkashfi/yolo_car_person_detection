#مدیریت جی پی یو

!nvidia-smi


#اتصال کولب و گوگل درایو 

from google.colab import drive
drive.mount ('/content/gdrive')

!ln -s /content/gdrive/My\ Drive/ /mydrive
!ls /mydrive


#نصب و تنظیم دارک نت


# Clone Darknet
!git clone https://github.com/AlexeyAB/darknet.git


# Configure Darknet
%cd darknet
!sed -i 's/OPENCV=0/OPENCV=1/' Makefile
!sed -i 's/GPU=0/GPU=1/' Makefile
!sed -i 's/CUDNN=0/CUDNN=1/' Makefile



# Compile DarkNet
!make


#تنظیمات یادگیری یولو

# Make a copy of yolov3.cfg
!cp cfg/yolov3.cfg cfg/yolov3_training.cfg



# Change lines in yolov3.cfg file
!sed -i 's/batch=1/batch=64/' cfg/yolov3_training.cfg
!sed -i 's/subdivisions=1/subdivisions=16/' cfg/yolov3_training.cfg
!sed -i 's/max_batches = 500200/max_batches = 6000/' cfg/yolov3_training.cfg
#تغییر خطوط در فایل پیکربندی با توجه به تعداد کلاسهایی که داریم که شامل تعداد کلاس و تعداد فیلتر ها است 
!sed -i '610 s@classes=80@classes=2@' cfg/yolov3_training.cfg
!sed -i '696 s@classes=80@classes=2@' cfg/yolov3_training.cfg
!sed -i '783 s@classes=80@classes=2@' cfg/yolov3_training.cfg
!sed -i '603 s@filters=255@filters=21@' cfg/yolov3_training.cfg
!sed -i '689 s@filters=255@filters=21@' cfg/yolov3_training.cfg
!sed -i '776 s@filters=255@filters=21@' cfg/yolov3_training.cfg



#ایجاد فایل‌های فراخوانی و ذخیره سازی نتایج
# Create .names files
!echo -e 'person\ncar' > data/obj.names


# Create .data file 
!echo -e 'classes= 2\ntrain  = data/train.txt\nvalid  = data/test.txt\nnames = data/obj.names\nbackup = /mydrive/yolov3' > data/obj.data



# معرفی نام و مسیر مجموعه عکس ها به یولو

# Create a folder and unzip image dataset
!mkdir data/obj
!unzip /mydrive/yolov3/images.zip -d data/obj



# Create train.txt file
import glob
#images_list = glob.glob("data/obj/*.jpg, *.jpeg, *.png")
#with open("data/train.txt", "w") as f:
    #f.write("\n".join(images_list))

formats = ['jpg', 'jpeg', 'png', 'gif']
with open("data/train.txt", "w") as f:
 for fmt in formats:

  images_list = glob.glob("data/obj/images/*.{}".format(fmt))
  f.write("\n".join(images_list))
  
  
  
  دریافت وزن های قبلی و آغاز یادگیری
  
  
  
  # Download pre-trained weights for the convolutional layers file
!wget https://pjreddie.com/media/files/darknet53.conv.74



# Start training
!./darknet detector train data/obj.data cfg/yolov3_training.cfg darknet53.conv.74 -dont_show


